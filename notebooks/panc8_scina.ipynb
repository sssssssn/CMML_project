{
 "cells": [
  {
   "cell_type": "code",
   "execution_count": null,
   "id": "97d0d7e2",
   "metadata": {},
   "outputs": [],
   "source": [
    "import scanpy as sc\n",
    "from matplotlib import pyplot as plt\n",
    "\n",
    "sc.set_figure_params(dpi=100)\n",
    "plt.rcParams[\"figure.figsize\"] = [6, 4]\n",
    "\n",
    "import warnings\n",
    "\n",
    "warnings.filterwarnings(\"ignore\")"
   ]
  },
  {
   "cell_type": "code",
   "execution_count": null,
   "id": "3dce9a42",
   "metadata": {},
   "outputs": [],
   "source": [
    "from scimilarity.utils import lognorm_counts, align_dataset\n",
    "from scimilarity import CellAnnotation"
   ]
  },
  {
   "cell_type": "markdown",
   "id": "665b83da",
   "metadata": {},
   "source": [
    "Load scRNA-seq data"
   ]
  },
  {
   "cell_type": "code",
   "execution_count": null,
   "id": "903a134a",
   "metadata": {},
   "outputs": [],
   "source": [
    "\n",
    "# Load the tutorial data\n",
    "# Set data_path to the location of the tutorial dataset\n",
    "data_path = \"../input/panc8_scina.h5ad\"\n",
    "adams = sc.read(data_path)"
   ]
  },
  {
   "cell_type": "markdown",
   "id": "201313c3",
   "metadata": {},
   "source": [
    "Import SCimilarity - Cell annotation object"
   ]
  },
  {
   "cell_type": "code",
   "execution_count": null,
   "id": "079feb0c",
   "metadata": {},
   "outputs": [],
   "source": [
    "model_path = \"../models/model_v1.1\"\n",
    "ca = CellAnnotation(model_path=model_path)"
   ]
  },
  {
   "cell_type": "markdown",
   "id": "5e9d3a8f",
   "metadata": {},
   "source": [
    "Match feature space with SCimilarity models"
   ]
  },
  {
   "cell_type": "code",
   "execution_count": null,
   "id": "740d2358",
   "metadata": {},
   "outputs": [],
   "source": [
    "adams = align_dataset(adams, ca.gene_order, gene_overlap_threshold=0)"
   ]
  },
  {
   "cell_type": "markdown",
   "id": "3c2874af",
   "metadata": {},
   "source": [
    "Normalize data consistent with SCimilarity"
   ]
  },
  {
   "cell_type": "code",
   "execution_count": null,
   "id": "9d7ed122",
   "metadata": {},
   "outputs": [],
   "source": [
    "#adams = lognorm_counts(adams)"
   ]
  },
  {
   "cell_type": "markdown",
   "id": "1ba41c7e",
   "metadata": {},
   "source": [
    "Compute embeddings"
   ]
  },
  {
   "cell_type": "code",
   "execution_count": null,
   "id": "e0e1e358",
   "metadata": {},
   "outputs": [],
   "source": [
    "\n",
    "\n",
    "\n",
    "adams.obsm[\"X_scimilarity\"] = ca.get_embeddings(adams.X)"
   ]
  },
  {
   "cell_type": "markdown",
   "id": "abca827b",
   "metadata": {},
   "source": [
    "Compute visualization of embeddings\n",
    "Use UMAP to visualize SCimilarity embeddings"
   ]
  },
  {
   "cell_type": "code",
   "execution_count": null,
   "id": "1d2d131c",
   "metadata": {},
   "outputs": [],
   "source": [
    "\n",
    "\n",
    "sc.pp.neighbors(adams, use_rep=\"X_scimilarity\")\n",
    "sc.tl.umap(adams)"
   ]
  },
  {
   "cell_type": "markdown",
   "id": "313bf2e2",
   "metadata": {},
   "source": [
    "Visualize"
   ]
  },
  {
   "cell_type": "code",
   "execution_count": null,
   "id": "4e06676a",
   "metadata": {},
   "outputs": [],
   "source": [
    "adams.obs.columns\n"
   ]
  },
  {
   "cell_type": "code",
   "execution_count": null,
   "id": "e5f5a992",
   "metadata": {},
   "outputs": [],
   "source": [
    "sc.pl.umap(adams, color=\"celltype\", legend_fontsize=5)"
   ]
  },
  {
   "cell_type": "markdown",
   "id": "2084beb9",
   "metadata": {},
   "source": [
    "Unconstrained annotation\n",
    "Cells can be classified as any type that is in the SCimilarity reference"
   ]
  },
  {
   "cell_type": "code",
   "execution_count": null,
   "id": "a25dc7d4",
   "metadata": {},
   "outputs": [],
   "source": [
    "predictions, nn_idxs, nn_dists, nn_stats = ca.get_predictions_knn(\n",
    "    adams.obsm[\"X_scimilarity\"]\n",
    ")\n",
    "adams.obs[\"predictions_unconstrained\"] = predictions.values"
   ]
  },
  {
   "cell_type": "code",
   "execution_count": null,
   "id": "06bc2733",
   "metadata": {},
   "outputs": [],
   "source": [
    "celltype_counts = adams.obs.predictions_unconstrained.value_counts()\n",
    "well_represented_celltypes = celltype_counts[celltype_counts > 20].index\n",
    "\n",
    "sc.pl.umap(\n",
    "    adams[adams.obs.predictions_unconstrained.isin(well_represented_celltypes)],\n",
    "    color=\"predictions_unconstrained\",\n",
    "    legend_fontsize=5,\n",
    ")"
   ]
  },
  {
   "cell_type": "markdown",
   "id": "ed16099a",
   "metadata": {},
   "source": [
    "Constrained classification"
   ]
  },
  {
   "cell_type": "code",
   "execution_count": null,
   "id": "84b47e75",
   "metadata": {},
   "outputs": [],
   "source": [
    "target_celltypes = [\n",
    "    \"acinar\",\n",
    "    \"activated_setllate\",\n",
    "    \"alpha\",\n",
    "    \"beta\",\n",
    "    \"delta\",\n",
    "    \"ductal\",\n",
    "    \"endothelial\",\n",
    "    \"epsilon\",\n",
    "    \"gamma\",\n",
    "    \"macrophage\",\n",
    "    \"mast\",\n",
    "    \"quiescent_stellate\",\n",
    "    \"schwann\",\n",
    "    \"endothelial cell\",\n",
    "    \"mast cell\",\n",
    "    \"pancreatic A cell\",\n",
    "    \"pancreatic D cell\",\n",
    "    \"pancreatic acinar cell\",\n",
    "    \"pancreatic ductal cell\",\n",
    "    \"pancreatic stellate cell\",\n",
    "    \"type B pancreatic cell\",\n",
    "]\n",
    "\n",
    "ca.safelist_celltypes(target_celltypes)"
   ]
  },
  {
   "cell_type": "code",
   "execution_count": null,
   "id": "3fbf167e",
   "metadata": {},
   "outputs": [],
   "source": [
    "adams = ca.annotate_dataset(adams)"
   ]
  },
  {
   "cell_type": "code",
   "execution_count": null,
   "id": "4f4e1418",
   "metadata": {},
   "outputs": [],
   "source": [
    "sc.pl.umap(adams, color=\"celltype_hint\", legend_fontsize=5)"
   ]
  },
  {
   "cell_type": "markdown",
   "id": "b0480112",
   "metadata": {},
   "source": [
    "Annotation QC"
   ]
  },
  {
   "cell_type": "code",
   "execution_count": null,
   "id": "0e11b9ba",
   "metadata": {},
   "outputs": [],
   "source": [
    "sc.pl.umap(adams, color=\"min_dist\", vmax=0.1)"
   ]
  },
  {
   "cell_type": "code",
   "execution_count": null,
   "id": "b58ab8a9",
   "metadata": {},
   "outputs": [],
   "source": [
    "adams.obs\n",
    "\n",
    "\n",
    "####我不知道那一列代表预测准确，我都给你了，你自己选择一下吧"
   ]
  },
  {
   "cell_type": "code",
   "execution_count": null,
   "id": "4777ff25",
   "metadata": {},
   "outputs": [],
   "source": [
    "actual_value = []\n",
    "hypothesis_value = []\n",
    "for index, row in adams.obs.iterrows():\n",
    "    actual_value.append(row[\"celltype\"])\n",
    "    hypothesis_value.append(row[\"celltype_hint\"])\n",
    "actual_value_set = set(actual_value)\n",
    "hypothesis_value_set = set(hypothesis_value)\n",
    "print(actual_value_set)\n",
    "print(hypothesis_value_set)"
   ]
  },
  {
   "cell_type": "code",
   "execution_count": null,
   "id": "355fba7a",
   "metadata": {},
   "outputs": [],
   "source": [
    "import csv\n",
    "mapping = [[\"NA\"],[\"alpha\",\"pancreatic A cell\"],[\"acinar\",\"pancreatic acinar cell\"],[\"quiescent_stellate\",\"pancreatic stellate cell\"],[\"beta\",\"type B pancreatic cell\"],[\"epsilon\"],[\"endothelial\",\"endothelial cell\"],[\"ductal\",\"pancreatic ductal cell\"],[\"macrophage\",\"macrophage\"],[\"mast\",\"mast cell\"],[\"gamma\"],[\"schwann\"],[\"activated_stellate\"]]                                            \n",
    "result_TP = {'alpha':0,'NA':0, 'acinar':0, 'quiescent_stellate':0, 'beta':0, 'delta':0, 'epsilon':0, 'endothelial':0, 'ductal':0, 'macrophage':0, 'mast':0, 'gamma':0, 'schwann':0, 'activated_stellate':0}\n",
    "result_FP = {'alpha':0,'NA':0, 'acinar':0, 'quiescent_stellate':0, 'beta':0, 'delta':0, 'epsilon':0, 'endothelial':0, 'ductal':0, 'macrophage':0, 'mast':0, 'gamma':0, 'schwann':0, 'activated_stellate':0}\n",
    "result_FN = {'alpha':0,'NA':0, 'acinar':0, 'quiescent_stellate':0, 'beta':0, 'delta':0, 'epsilon':0, 'endothelial':0, 'ductal':0, 'macrophage':0, 'mast':0, 'gamma':0, 'schwann':0, 'activated_stellate':0}\n",
    "#真阳性，假阳性，假阴性\n",
    "\n",
    "\n",
    "#迭代后，只要actual_value，hypothesis_value处在同一个mapping里，就认定真阳性，根据actualvlue寻找resultTP并+1，其它同理，我可以保证mapping的每个元素[0]都是result的key\n",
    "# 定义函数以查找值对应的组键\n",
    "result_keys = result_TP.keys()\n",
    "\n",
    "# 定义改进后的组查找函数\n",
    "def find_group(value, mapping, result_keys):\n",
    "    # 遍历映射表，检查值是否属于某个组\n",
    "    for group in mapping:\n",
    "        if value in group:\n",
    "            return group[0]  # 返回组的第一项（即结果字典的键）\n",
    "    # 如果不在映射表中，检查是否是结果字典的有效键\n",
    "    if value in result_keys:\n",
    "        return value  # 直接返回自身（如 'B'）\n",
    "    else:\n",
    "        return 'NA'  # 否则归类到 'NA'\n",
    "\n",
    "# 遍历数据并更新统计结果\n",
    "for index, row in adams.obs.iterrows():\n",
    "    actual_value = row[\"celltype\"]\n",
    "    hypothesis_value = row[\"celltype_hint\"]\n",
    "    \n",
    "    # 获取实际组和预测组（传入 result_keys 参数）\n",
    "    actual_group = find_group(actual_value, mapping, result_keys)\n",
    "    hypothesis_group = find_group(hypothesis_value, mapping, result_keys)\n",
    "    \n",
    "    # 更新 TP、FP、FN\n",
    "    if actual_group == hypothesis_group:\n",
    "        result_TP[actual_group] += 1\n",
    "    else:\n",
    "        # 假阴性：实际组未被正确识别\n",
    "        result_FN[actual_group] += 1\n",
    "        # 假阳性：预测组错误标记\n",
    "        result_FP[hypothesis_group] += 1\n",
    "print(result_TP)\n",
    "print(result_FP)\n",
    "print(result_FN)\n",
    "\n",
    "with open('../output/output_report/result_panc8_scina.csv', 'w', newline='') as csvfile:\n",
    "    writer = csv.writer(csvfile)\n",
    "    \n",
    "    # 写入表头\n",
    "    writer.writerow(['Category', 'Precision', 'Recall', 'F1 Score'])\n",
    "    \n",
    "    for key in result_TP.keys():\n",
    "        thisTP = result_TP[key]\n",
    "        thisFP = result_FP[key]\n",
    "        thisFN = result_FN[key]\n",
    "        \n",
    "        # 计算 Precision\n",
    "        pre = thisTP / (thisTP + thisFP) if (thisTP + thisFP) != 0 else 0\n",
    "        \n",
    "        # 计算 Recall\n",
    "        rec = thisTP / (thisTP + thisFN) if (thisTP + thisFN) != 0 else 0\n",
    "        \n",
    "        # 计算 F1\n",
    "        f1 = 2 * (pre * rec) / (pre + rec) if (pre + rec) != 0 else 0\n",
    "        \n",
    "        # 写入行数据\n",
    "        writer.writerow([key, round(pre, 4), round(rec, 4), round(f1, 4)])\n",
    "    \n",
    "\n",
    "\n",
    "    "
   ]
  },
  {
   "cell_type": "code",
   "execution_count": null,
   "id": "4bd8c5bc",
   "metadata": {},
   "outputs": [],
   "source": [
    "adams.write(\"../output/output_modified_h5ad/panc8_scina_mod.h5ad\")"
   ]
  }
 ],
 "metadata": {
  "kernelspec": {
   "display_name": ".venv",
   "language": "python",
   "name": "python3"
  },
  "language_info": {
   "codemirror_mode": {
    "name": "ipython",
    "version": 3
   },
   "file_extension": ".py",
   "mimetype": "text/x-python",
   "name": "python",
   "nbconvert_exporter": "python",
   "pygments_lexer": "ipython3",
   "version": "3.9.6"
  }
 },
 "nbformat": 4,
 "nbformat_minor": 5
}
